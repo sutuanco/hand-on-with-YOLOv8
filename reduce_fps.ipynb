{
 "cells": [
  {
   "cell_type": "code",
   "execution_count": 2,
   "metadata": {},
   "outputs": [],
   "source": [
    "import cv2"
   ]
  },
  {
   "cell_type": "code",
   "execution_count": 4,
   "metadata": {},
   "outputs": [],
   "source": [
    "def reduce_fps(input_video_path, output_video_path, target_fps):\n",
    "    cap = cv2.VideoCapture(input_video_path)\n",
    "    fps = int(cap.get(cv2.CAP_PROP_FPS))\n",
    "    frame_interval = int(fps / target_fps)\n",
    "\n",
    "    fourcc = cv2.VideoWriter_fourcc(*'XVID')\n",
    "    \n",
    "    out = cv2.VideoWriter(output_video_path, fourcc, target_fps, (640, 480))\n",
    "\n",
    "    frame_count = 0\n",
    "    while True:\n",
    "        ret, frame = cap.read()\n",
    "        if not ret:\n",
    "            break\n",
    "\n",
    "        if frame_count % frame_interval == 0:\n",
    "            out.write(frame)\n",
    "\n",
    "        frame_count += 1\n",
    "\n",
    "    cap.release()\n",
    "    out.release()\n",
    "\n",
    "# Usage:\n",
    "input_video_path = \"../videos/home_1.mp4\"\n",
    "output_video_path = \"../videos_low_fps/home_1.avi\"\n",
    "target_fps = 1  # Set your desired frame rate\n",
    "reduce_fps(input_video_path, output_video_path, target_fps)\n"
   ]
  }
 ],
 "metadata": {
  "kernelspec": {
   "display_name": "CuongPC",
   "language": "python",
   "name": "python3"
  },
  "language_info": {
   "codemirror_mode": {
    "name": "ipython",
    "version": 3
   },
   "file_extension": ".py",
   "mimetype": "text/x-python",
   "name": "python",
   "nbconvert_exporter": "python",
   "pygments_lexer": "ipython3",
   "version": "3.9.19"
  }
 },
 "nbformat": 4,
 "nbformat_minor": 2
}
